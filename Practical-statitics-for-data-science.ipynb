{
  "nbformat": 4,
  "nbformat_minor": 0,
  "metadata": {
    "colab": {
      "name": "Untitled0.ipynb",
      "provenance": [],
      "authorship_tag": "ABX9TyOLyejFhOKUeOt5IXQkXKhV"
    },
    "kernelspec": {
      "name": "python3",
      "display_name": "Python 3"
    },
    "language_info": {
      "name": "python"
    }
  },
  "cells": [
    {
      "cell_type": "code",
      "execution_count": 1,
      "metadata": {
        "colab": {
          "base_uri": "https://localhost:8080/"
        },
        "id": "sBFhTV1gEnBQ",
        "outputId": "6f3c1b5c-ebe6-4e35-dad7-f5d2d6ececc4"
      },
      "outputs": [
        {
          "output_type": "stream",
          "name": "stdout",
          "text": [
            "Requirement already satisfied: matplotlib in /usr/local/lib/python3.7/dist-packages (3.2.2)\n",
            "Requirement already satisfied: kiwisolver>=1.0.1 in /usr/local/lib/python3.7/dist-packages (from matplotlib) (1.3.2)\n",
            "Requirement already satisfied: numpy>=1.11 in /usr/local/lib/python3.7/dist-packages (from matplotlib) (1.19.5)\n",
            "Requirement already satisfied: cycler>=0.10 in /usr/local/lib/python3.7/dist-packages (from matplotlib) (0.11.0)\n",
            "Requirement already satisfied: python-dateutil>=2.1 in /usr/local/lib/python3.7/dist-packages (from matplotlib) (2.8.2)\n",
            "Requirement already satisfied: pyparsing!=2.0.4,!=2.1.2,!=2.1.6,>=2.0.1 in /usr/local/lib/python3.7/dist-packages (from matplotlib) (3.0.7)\n",
            "Requirement already satisfied: six>=1.5 in /usr/local/lib/python3.7/dist-packages (from python-dateutil>=2.1->matplotlib) (1.15.0)\n",
            "Requirement already satisfied: pandas in /usr/local/lib/python3.7/dist-packages (1.1.5)\n",
            "Requirement already satisfied: numpy>=1.15.4 in /usr/local/lib/python3.7/dist-packages (from pandas) (1.19.5)\n",
            "Requirement already satisfied: python-dateutil>=2.7.3 in /usr/local/lib/python3.7/dist-packages (from pandas) (2.8.2)\n",
            "Requirement already satisfied: pytz>=2017.2 in /usr/local/lib/python3.7/dist-packages (from pandas) (2018.9)\n",
            "Requirement already satisfied: six>=1.5 in /usr/local/lib/python3.7/dist-packages (from python-dateutil>=2.7.3->pandas) (1.15.0)\n",
            "Requirement already satisfied: numpy in /usr/local/lib/python3.7/dist-packages (1.19.5)\n",
            "Requirement already satisfied: sklearn in /usr/local/lib/python3.7/dist-packages (0.0)\n",
            "Requirement already satisfied: scikit-learn in /usr/local/lib/python3.7/dist-packages (from sklearn) (1.0.2)\n",
            "Requirement already satisfied: scipy>=1.1.0 in /usr/local/lib/python3.7/dist-packages (from scikit-learn->sklearn) (1.4.1)\n",
            "Requirement already satisfied: numpy>=1.14.6 in /usr/local/lib/python3.7/dist-packages (from scikit-learn->sklearn) (1.19.5)\n",
            "Requirement already satisfied: threadpoolctl>=2.0.0 in /usr/local/lib/python3.7/dist-packages (from scikit-learn->sklearn) (3.0.0)\n",
            "Requirement already satisfied: joblib>=0.11 in /usr/local/lib/python3.7/dist-packages (from scikit-learn->sklearn) (1.1.0)\n",
            "Requirement already satisfied: scipy in /usr/local/lib/python3.7/dist-packages (1.4.1)\n",
            "Requirement already satisfied: numpy>=1.13.3 in /usr/local/lib/python3.7/dist-packages (from scipy) (1.19.5)\n",
            "Requirement already satisfied: seaborn in /usr/local/lib/python3.7/dist-packages (0.11.2)\n",
            "Requirement already satisfied: matplotlib>=2.2 in /usr/local/lib/python3.7/dist-packages (from seaborn) (3.2.2)\n",
            "Requirement already satisfied: numpy>=1.15 in /usr/local/lib/python3.7/dist-packages (from seaborn) (1.19.5)\n",
            "Requirement already satisfied: scipy>=1.0 in /usr/local/lib/python3.7/dist-packages (from seaborn) (1.4.1)\n",
            "Requirement already satisfied: pandas>=0.23 in /usr/local/lib/python3.7/dist-packages (from seaborn) (1.1.5)\n",
            "Requirement already satisfied: python-dateutil>=2.1 in /usr/local/lib/python3.7/dist-packages (from matplotlib>=2.2->seaborn) (2.8.2)\n",
            "Requirement already satisfied: pyparsing!=2.0.4,!=2.1.2,!=2.1.6,>=2.0.1 in /usr/local/lib/python3.7/dist-packages (from matplotlib>=2.2->seaborn) (3.0.7)\n",
            "Requirement already satisfied: cycler>=0.10 in /usr/local/lib/python3.7/dist-packages (from matplotlib>=2.2->seaborn) (0.11.0)\n",
            "Requirement already satisfied: kiwisolver>=1.0.1 in /usr/local/lib/python3.7/dist-packages (from matplotlib>=2.2->seaborn) (1.3.2)\n",
            "Requirement already satisfied: pytz>=2017.2 in /usr/local/lib/python3.7/dist-packages (from pandas>=0.23->seaborn) (2018.9)\n",
            "Requirement already satisfied: six>=1.5 in /usr/local/lib/python3.7/dist-packages (from python-dateutil>=2.1->matplotlib>=2.2->seaborn) (1.15.0)\n",
            "Requirement already satisfied: pathlib in /usr/local/lib/python3.7/dist-packages (1.0.1)\n"
          ]
        }
      ],
      "source": [
        "!pip install matplotlib\n",
        "!pip install pandas\n",
        "!pip install numpy \n",
        "!pip install sklearn\n",
        "!pip install scipy \n",
        "!pip install seaborn\n",
        "!pip install pathlib"
      ]
    },
    {
      "cell_type": "code",
      "source": [
        "%matplotlib inline \n",
        "from pathlib import Path \n",
        "import pandas as pd \n",
        "import numpy as np \n",
        "from scipy import stats\n",
        "from sklearn.utils import resample \n",
        "\n",
        "import seaborn as sns \n",
        "import matplotlib.pyplot as plt \n",
        "import statsmodels.api as sm \n",
        "import statsmodels.formula.api as smf \n",
        "from statsmodels.stats import power"
      ],
      "metadata": {
        "id": "RZXlFXgFF9bT"
      },
      "execution_count": 39,
      "outputs": []
    },
    {
      "cell_type": "code",
      "source": [
        "try: \n",
        "  import common \n",
        "  DATA = common.dataDirectory()\n",
        "except ImportError: \n",
        "  DATA = Path().resolve() / 'data'"
      ],
      "metadata": {
        "id": "7ptkjlNDGM9r"
      },
      "execution_count": 3,
      "outputs": []
    },
    {
      "cell_type": "code",
      "source": [
        "LOANS_INCOME_CSV = './Data/loans_income.csv'\n",
        "SP500_DATA_CSV = './Data/sp500_data.csv.gz'"
      ],
      "metadata": {
        "id": "s0gseF8nGXZM"
      },
      "execution_count": 4,
      "outputs": []
    },
    {
      "cell_type": "code",
      "source": [
        "np.random.seed(seed = 1)\n",
        "x = np.linspace(-3,3,300)\n",
        "xsample = stats.norm.rvs(size = 1000)\n",
        "\n",
        "fig, axes = plt.subplots(ncols = 2, figsize = (5,1.5))\n",
        "ax = axes[0]\n",
        "ax.fill(x, stats.norm.pdf(x))\n",
        "ax.set_axis_off()\n",
        "ax.set_xlim(-3,3)\n",
        "\n",
        "ax = axes[1]\n",
        "ax.hist(xsample, bins = 30)\n",
        "ax.set_axis_off()\n",
        "ax.set_xlim(-3,3)\n",
        "ax.set_position\n",
        "\n",
        "plt.show()"
      ],
      "metadata": {
        "colab": {
          "base_uri": "https://localhost:8080/",
          "height": 112
        },
        "id": "OEw6aN6UGhTo",
        "outputId": "be8d6be0-a02a-4fec-cf05-4ba5eff396a5"
      },
      "execution_count": 6,
      "outputs": [
        {
          "output_type": "display_data",
          "data": {
            "image/png": "[encoded data removed]",
            "text/plain": [
              "<Figure size 360x108 with 2 Axes>"
            ]
          },
          "metadata": {
            "needs_background": "light"
          }
        }
      ]
    },
    {
      "cell_type": "code",
      "source": [
        "loans_income = pd.read_csv(LOANS_INCOME_CSV, squeeze=True)\n",
        "\n",
        "sample_data = pd.DataFrame({\n",
        "    'income': loans_income.sample(1000),\n",
        "    'type': 'Data',\n",
        "})\n",
        "\n",
        "sample_mean_05 = pd.DataFrame({\n",
        "    'income': [loans_income.sample(5).mean() for _ in range(1000)],\n",
        "    'type': 'Mean of 5',\n",
        "})\n",
        "\n",
        "sample_mean_20 = pd.DataFrame({\n",
        "    'income': [loans_income.sample(20).mean() for _ in range(1000)],\n",
        "    'type': 'Mean of 20',\n",
        "})\n",
        "\n",
        "results = pd.concat([sample_data, sample_mean_05, sample_mean_20])\n",
        "print(results.head())\n"
      ],
      "metadata": {
        "colab": {
          "base_uri": "https://localhost:8080/"
        },
        "id": "kzBxViDpHGmt",
        "outputId": "a3e60b53-ef20-4113-c6ea-afbf55e537b5"
      },
      "execution_count": 8,
      "outputs": [
        {
          "output_type": "stream",
          "name": "stdout",
          "text": [
            "         income  type\n",
            "19670   84000.0  Data\n",
            "47158   49000.0  Data\n",
            "38921  125000.0  Data\n",
            "44354  100000.0  Data\n",
            "28613  106000.0  Data\n"
          ]
        }
      ]
    },
    {
      "cell_type": "code",
      "source": [
        "g = sns.FacetGrid(results, col = 'type', col_wrap = 1, height = 2, aspect = 2)\n",
        "\n",
        "g.map(plt.hist, 'income', range = [0,200000], bins = 40)\n",
        "g.set_axis_labels('Income', 'Count')\n",
        "g.set_titles('{col_name}')\n",
        "\n",
        "plt.tight_layout()\n",
        "plt.show()"
      ],
      "metadata": {
        "colab": {
          "base_uri": "https://localhost:8080/",
          "height": 441
        },
        "id": "KTY2GdgGH6HY",
        "outputId": "c500f362-b92d-45ea-bec4-ab64740daa9d"
      },
      "execution_count": 10,
      "outputs": [
        {
          "output_type": "display_data",
          "data": {
            "image/png": "[encoded data removed]",
            "text/plain": [
              "<Figure size 288x432 with 3 Axes>"
            ]
          },
          "metadata": {
            "needs_background": "light"
          }
        }
      ]
    },
    {
      "cell_type": "markdown",
      "source": [
        "The Bootstrap"
      ],
      "metadata": {
        "id": "AINznoN9IWJb"
      }
    },
    {
      "cell_type": "code",
      "source": [
        "results = []\n",
        "for nrepeat in range(1000):\n",
        "    sample = resample(loans_income)\n",
        "    results.append(sample.median())\n",
        "results = pd.Series(results)\n",
        "print('Bootstrap Statistics:')\n",
        "print(f'original: {loans_income.median()}')\n",
        "print(f'bias: {results.mean() - loans_income.median()}')\n",
        "print(f'std. error: {results.std()}')"
      ],
      "metadata": {
        "colab": {
          "base_uri": "https://localhost:8080/"
        },
        "id": "v7Hxv9k5IXu9",
        "outputId": "1403d9d0-36c0-490b-8747-12cdd62ad96e"
      },
      "execution_count": 12,
      "outputs": [
        {
          "output_type": "stream",
          "name": "stdout",
          "text": [
            "Bootstrap Statistics:\n",
            "original: 62000.0\n",
            "bias: -70.56199999999808\n",
            "std. error: 205.12865577832127\n"
          ]
        }
      ]
    },
    {
      "cell_type": "code",
      "source": [
        "print(loans_income.mean())\n",
        "np.random.seed(seed=3)  \n",
        "# create a sample of 20 loan income data\n",
        "sample20 = resample(loans_income, n_samples=20, replace=False)\n",
        "print(sample20.mean())\n",
        "results = []\n",
        "for nrepeat in range(500):\n",
        "    sample = resample(sample20)\n",
        "    results.append(sample.mean())\n",
        "results = pd.Series(results)\n",
        "\n",
        "confidence_interval = list(results.quantile([0.05, 0.95]))\n",
        "ax = results.plot.hist(bins=30, figsize=(4, 3))\n",
        "ax.plot(confidence_interval, [55, 55], color='black')\n",
        "for x in confidence_interval:\n",
        "    ax.plot([x, x], [0, 65], color='black')\n",
        "    ax.text(x, 70, f'{x:.0f}', \n",
        "            horizontalalignment='center', verticalalignment='center')\n",
        "ax.text(sum(confidence_interval) / 2, 60, '90% interval',\n",
        "        horizontalalignment='center', verticalalignment='center')\n",
        "\n",
        "meanIncome = results.mean()\n",
        "ax.plot([meanIncome, meanIncome], [0, 50], color='black', linestyle='--')\n",
        "ax.text(meanIncome, 10, f'Mean: {meanIncome:.0f}',\n",
        "        bbox=dict(facecolor='white', edgecolor='white', alpha=0.5),\n",
        "        horizontalalignment='center', verticalalignment='center')\n",
        "ax.set_ylim(0, 80)\n",
        "ax.set_ylabel('Counts')\n",
        "\n",
        "plt.tight_layout()\n",
        "plt.show()"
      ],
      "metadata": {
        "colab": {
          "base_uri": "https://localhost:8080/",
          "height": 259
        },
        "id": "4FY8cgT2I7nL",
        "outputId": "0da9f2c2-6611-4dcf-9abf-fc95355734f3"
      },
      "execution_count": 13,
      "outputs": [
        {
          "output_type": "stream",
          "name": "stdout",
          "text": [
            "68760.51844\n",
            "55734.1\n"
          ]
        },
        {
          "output_type": "display_data",
          "data": {
            "image/png": "[encoded data removed]",
            "text/plain": [
              "<Figure size 288x216 with 1 Axes>"
            ]
          },
          "metadata": {
            "needs_background": "light"
          }
        }
      ]
    },
    {
      "cell_type": "code",
      "source": [
        "np.random.seed(seed=3)\n",
        "# create a sample of 20 loan income data\n",
        "sample20 = resample(loans_income, n_samples=20, replace=False)\n",
        "\n",
        "results = []\n",
        "for nrepeat in range(500):\n",
        "    sample = resample(sample20)\n",
        "    results.append(sample.mean())\n",
        "results = pd.Series(results)\n",
        "\n",
        "confidence_interval = list(results.quantile([0.05, 0.95]))\n",
        "ax = results.plot.hist(bins=30, figsize=(4, 3), color='C1')\n",
        "ax.plot(confidence_interval, [55, 55], color='black', linestyle='--')\n",
        "for x in confidence_interval:\n",
        "    ax.plot([x, x], [0, 60], color='black')\n",
        "ax.text(82000, 50, \n",
        "        f'90% CI\\n[{confidence_interval[0]:.0f}, {confidence_interval[1]:.0f}]',\n",
        "       fontsize='small')\n",
        "\n",
        "confidence_interval = list(results.quantile([0.025, 0.975]))\n",
        "ax = results.plot.hist(bins=30, figsize=(4, 3))\n",
        "ax.plot(confidence_interval, [65, 65], color='black', linestyle='--')\n",
        "for x in confidence_interval:\n",
        "    ax.plot([x, x], [0, 70], color='black')\n",
        "ax.text(82000, 65, \n",
        "        f'95% CI\\n[{confidence_interval[0]:.0f}, {confidence_interval[1]:.0f}]',\n",
        "       fontsize='small')\n",
        "# ax.text(sum(confidence_interval) / 2, 264, '95 % interval',\n",
        "#         horizontalalignment='center', verticalalignment='center')\n",
        "\n",
        "meanIncome = results.mean()\n",
        "ax.plot([meanIncome, meanIncome], [0, 50], color='black', linestyle='--')\n",
        "ax.text(meanIncome, 5, f'Mean: {meanIncome:.0f}',\n",
        "        bbox=dict(facecolor='white', edgecolor='white', alpha=0.5),\n",
        "        horizontalalignment='center', verticalalignment='center')\n",
        "ax.set_ylim(0, 80)\n",
        "ax.set_xlim(37000, 102000)\n",
        "ax.set_xticks([40000, 50000, 60000, 70000, 80000])\n",
        "ax.set_ylabel('Counts')\n",
        "\n",
        "# plt.tight_layout()\n",
        "# plt.show()"
      ],
      "metadata": {
        "colab": {
          "base_uri": "https://localhost:8080/",
          "height": 232
        },
        "id": "yEgs5Rd9I_R6",
        "outputId": "485097c0-5fab-443d-ea1d-89fd2abe9be8"
      },
      "execution_count": 14,
      "outputs": [
        {
          "output_type": "execute_result",
          "data": {
            "text/plain": [
              "Text(0, 0.5, 'Counts')"
            ]
          },
          "metadata": {},
          "execution_count": 14
        },
        {
          "output_type": "display_data",
          "data": {
            "image/png": "[encoded data removed]",
            "text/plain": [
              "<Figure size 288x216 with 1 Axes>"
            ]
          },
          "metadata": {
            "needs_background": "light"
          }
        }
      ]
    },
    {
      "cell_type": "code",
      "source": [
        "fig, ax = plt.subplots(figsize = (4,4))\n",
        "\n",
        "norm_sample = stats.norm.rvs(size = 100)\n",
        "stats.probplot(norm_sample, plot = ax)\n",
        "\n",
        "plt.tight_layout()\n",
        "plt.show()"
      ],
      "metadata": {
        "colab": {
          "base_uri": "https://localhost:8080/",
          "height": 297
        },
        "id": "NkRxSWLJJEuP",
        "outputId": "f7e28ea5-5813-4c7f-95df-84226dd4f79b"
      },
      "execution_count": 16,
      "outputs": [
        {
          "output_type": "display_data",
          "data": {
            "image/png": "[encoded data removed]",
            "text/plain": [
              "<Figure size 288x288 with 1 Axes>"
            ]
          },
          "metadata": {
            "needs_background": "light"
          }
        }
      ]
    },
    {
      "cell_type": "code",
      "source": [
        "sp500_px = pd.read_csv(SP500_DATA_CSV)\n",
        "\n",
        "nflx = sp500_px.NFLX\n",
        "nflx = np.diff(np.log(nflx[nflx>0]))\n",
        "\n",
        "fig, ax = plt.subplots(figsize = (4,4))\n",
        "stats.probplot(nflx, plot = ax)\n",
        "plt.tight_layout()\n",
        "plt.show()"
      ],
      "metadata": {
        "colab": {
          "base_uri": "https://localhost:8080/",
          "height": 297
        },
        "id": "z_PxDzZ-JaG3",
        "outputId": "224ae258-6eed-4e78-ee4e-093c34797c0f"
      },
      "execution_count": 17,
      "outputs": [
        {
          "output_type": "display_data",
          "data": {
            "image/png": "[encoded data removed]",
            "text/plain": [
              "<Figure size 288x288 with 1 Axes>"
            ]
          },
          "metadata": {
            "needs_background": "light"
          }
        }
      ]
    },
    {
      "cell_type": "code",
      "source": [
        "import random"
      ],
      "metadata": {
        "id": "X4e9WDLTQRIe"
      },
      "execution_count": 27,
      "outputs": []
    },
    {
      "cell_type": "code",
      "source": [
        "WEB_PAGE_DATA_CSV = './Data/web_page_data.csv'\n",
        "FOUR_SESSIONS_CSV = './Data/four_sessions.csv'\n",
        "CLICK_RATE_CSV = './Data/click_rates.csv'\n",
        "IMANISHI_CSV = './Data/imanishi_data.csv'"
      ],
      "metadata": {
        "id": "yShGTYrqOlvZ"
      },
      "execution_count": 20,
      "outputs": []
    },
    {
      "cell_type": "code",
      "source": [
        "session_times = pd.read_csv(WEB_PAGE_DATA_CSV)\n",
        "session_times.Time = 100 * session_times.Time"
      ],
      "metadata": {
        "id": "e2e7BH0_Oo2E"
      },
      "execution_count": 21,
      "outputs": []
    },
    {
      "cell_type": "code",
      "source": [
        "ax = session_times.boxplot(by='Page', column='Time',\n",
        "                           figsize=(4, 4))\n",
        "\n",
        "ax.set_xlabel('')\n",
        "ax.set_ylabel('Time(in seconds)')\n",
        "plt.suptitle('')\n",
        "\n",
        "plt.tight_layout()\n",
        "plt.show()"
      ],
      "metadata": {
        "colab": {
          "base_uri": "https://localhost:8080/",
          "height": 351
        },
        "id": "vO6aAtmNO8fm",
        "outputId": "f4940500-313a-4352-a7bc-66c2ce0b7fe7"
      },
      "execution_count": 23,
      "outputs": [
        {
          "output_type": "stream",
          "name": "stderr",
          "text": [
            "/usr/local/lib/python3.7/dist-packages/numpy/core/_asarray.py:83: VisibleDeprecationWarning: Creating an ndarray from ragged nested sequences (which is a list-or-tuple of lists-or-tuples-or ndarrays with different lengths or shapes) is deprecated. If you meant to do this, you must specify 'dtype=object' when creating the ndarray\n",
            "  return array(a, dtype, copy=False, order=order)\n"
          ]
        },
        {
          "output_type": "display_data",
          "data": {
            "image/png": "[encoded data removed]",
            "text/plain": [
              "<Figure size 288x288 with 1 Axes>"
            ]
          },
          "metadata": {
            "needs_background": "light"
          }
        }
      ]
    },
    {
      "cell_type": "code",
      "source": [
        "mean_a = session_times[session_times.Page == 'Page A'].Time.mean()\n",
        "mean_b = session_times[session_times.Page == 'Page B'].Time.mean()\n",
        "print(mean_b - mean_a)"
      ],
      "metadata": {
        "colab": {
          "base_uri": "https://localhost:8080/"
        },
        "id": "WmNzT52OPSdO",
        "outputId": "140952c0-20d1-4429-cc10-845886f1994a"
      },
      "execution_count": 24,
      "outputs": [
        {
          "output_type": "stream",
          "name": "stdout",
          "text": [
            "35.66666666666667\n"
          ]
        }
      ]
    },
    {
      "cell_type": "code",
      "source": [
        "def perm_fun(x, nA, nB):\n",
        "    n = nA + nB\n",
        "    idx_B = set(random.sample(range(n), nB))\n",
        "    idx_A = set(range(n)) - idx_B\n",
        "    return x.loc[idx_B].mean() - x.loc[idx_A].mean()\n",
        "    \n",
        "nA = session_times[session_times.Page == 'Page A'].shape[0]\n",
        "nB = session_times[session_times.Page == 'Page B'].shape[0]\n",
        "print(perm_fun(session_times.Time, nA, nB))"
      ],
      "metadata": {
        "colab": {
          "base_uri": "https://localhost:8080/"
        },
        "id": "E5F6j0PBPjM2",
        "outputId": "f6b33a6b-5bdf-4e09-ccb3-6c67614c7bcd"
      },
      "execution_count": 28,
      "outputs": [
        {
          "output_type": "stream",
          "name": "stdout",
          "text": [
            "15.43809523809523\n"
          ]
        }
      ]
    },
    {
      "cell_type": "code",
      "source": [
        "random.seed(1)\n",
        "perm_diffs = [perm_fun(session_times.Time, nA, nB) for _ in range(1000)]\n",
        "\n",
        "fig, ax = plt.subplots(figsize=(5, 5))\n",
        "ax.hist(perm_diffs, bins=11, rwidth=0.9)\n",
        "ax.axvline(x = mean_b - mean_a, color='black', lw=2)\n",
        "ax.text(50, 190, 'Observed\\ndifference', bbox={'facecolor':'white'})\n",
        "ax.set_xlabel('Session time differences (in seconds)')\n",
        "ax.set_ylabel('Frequency')\n",
        "\n",
        "plt.tight_layout()\n",
        "plt.show()\n"
      ],
      "metadata": {
        "colab": {
          "base_uri": "https://localhost:8080/",
          "height": 369
        },
        "id": "2cVjeFKiQU0L",
        "outputId": "1de6cb39-b25e-4144-9f30-dced6010dc06"
      },
      "execution_count": 30,
      "outputs": [
        {
          "output_type": "display_data",
          "data": {
            "image/png": "[encoded data removed]",
            "text/plain": [
              "<Figure size 360x360 with 1 Axes>"
            ]
          },
          "metadata": {
            "needs_background": "light"
          }
        }
      ]
    },
    {
      "cell_type": "code",
      "source": [
        "random.seed(1)\n",
        "obs_pct_diff = 100 * (200 / 23739 - 182 / 22588)\n",
        "print(f'Observed difference: {obs_pct_diff:.4f}%')\n",
        "conversion = [0] * 45945\n",
        "conversion.extend([1] * 382)\n",
        "conversion = pd.Series(conversion)\n",
        "\n",
        "perm_diffs = [100 * perm_fun(conversion, 23739, 22588) \n",
        "              for _ in range(1000)]\n",
        "\n",
        "fig, ax = plt.subplots(figsize=(5, 5))\n",
        "ax.hist(perm_diffs, bins=11, rwidth=0.9)\n",
        "ax.axvline(x=obs_pct_diff, color='black', lw=2)\n",
        "ax.text(0.06, 200, 'Observed\\ndifference', bbox={'facecolor':'white'})\n",
        "ax.set_xlabel('Conversion rate (percent)')\n",
        "ax.set_ylabel('Frequency')\n",
        "\n",
        "plt.tight_layout()\n",
        "plt.show()"
      ],
      "metadata": {
        "colab": {
          "base_uri": "https://localhost:8080/",
          "height": 386
        },
        "id": "FC-FcuRQRNt4",
        "outputId": "f64ed7c5-aceb-48cf-cd4f-40f48f029bb0"
      },
      "execution_count": 33,
      "outputs": [
        {
          "output_type": "stream",
          "name": "stdout",
          "text": [
            "Observed difference: 0.0368%\n"
          ]
        },
        {
          "output_type": "display_data",
          "data": {
            "image/png": "[encoded data removed]",
            "text/plain": [
              "<Figure size 360x360 with 1 Axes>"
            ]
          },
          "metadata": {
            "needs_background": "light"
          }
        }
      ]
    },
    {
      "cell_type": "code",
      "source": [
        "print(np.mean([diff > obs_pct_diff for diff in perm_diffs]))"
      ],
      "metadata": {
        "colab": {
          "base_uri": "https://localhost:8080/"
        },
        "id": "YZLzjC0uSZFN",
        "outputId": "fee40842-b476-473c-88e4-72331ba75a96"
      },
      "execution_count": 34,
      "outputs": [
        {
          "output_type": "stream",
          "name": "stdout",
          "text": [
            "0.332\n"
          ]
        }
      ]
    },
    {
      "cell_type": "code",
      "source": [
        "survivors = np.array([[200, 23739 - 200], [182, 22588 - 182]])\n",
        "chi2, p_value, df, _ = stats.chi2_contingency(survivors)\n",
        "print(f'p-value for single sided test: {p_value / 2:.4f}' )"
      ],
      "metadata": {
        "colab": {
          "base_uri": "https://localhost:8080/"
        },
        "id": "8jO4wOZ2Shm_",
        "outputId": "ea2b6275-6255-4ce7-dea8-f47fd57c76e9"
      },
      "execution_count": 35,
      "outputs": [
        {
          "output_type": "stream",
          "name": "stdout",
          "text": [
            "p-value for single sided test: 0.3498\n"
          ]
        }
      ]
    },
    {
      "cell_type": "code",
      "source": [
        "res = stats.ttest_ind(session_times[session_times.Page == 'Page A'].Time,\n",
        "                      session_times[session_times.Page == 'Page B'].Time,\n",
        "                      equal_var = False)\n",
        "\n",
        "print(f'p-value for single sided test: {res.pvalue/ 2:.4f}' )"
      ],
      "metadata": {
        "colab": {
          "base_uri": "https://localhost:8080/"
        },
        "id": "ITD4l3CrS1Wv",
        "outputId": "9c88c7c5-1d09-464c-acca-f8ac6d98bf55"
      },
      "execution_count": 36,
      "outputs": [
        {
          "output_type": "stream",
          "name": "stdout",
          "text": [
            "p-value for single sided test: 0.1408\n"
          ]
        }
      ]
    },
    {
      "cell_type": "code",
      "source": [
        "tstat, pvalue, df = sm.stats.ttest_ind(\n",
        "    session_times[session_times.Page == 'Page A'].Time, \n",
        "    session_times[session_times.Page == 'Page B'].Time,\n",
        "    usevar='unequal', alternative='smaller')\n",
        "print(f'p-value: {pvalue:.4f}')"
      ],
      "metadata": {
        "colab": {
          "base_uri": "https://localhost:8080/"
        },
        "id": "EOCxUZrJTK8F",
        "outputId": "dd008cba-0c13-495d-b87a-32f9b4e81394"
      },
      "execution_count": 40,
      "outputs": [
        {
          "output_type": "stream",
          "name": "stdout",
          "text": [
            "p-value: 0.1408\n"
          ]
        }
      ]
    },
    {
      "cell_type": "code",
      "source": [
        "four_sessions = pd.read_csv(FOUR_SESSIONS_CSV)\n",
        "\n",
        "ax = four_sessions.boxplot(by='Page', column = 'Time',\n",
        "                            figsize = (4,4))\n",
        "\n",
        "ax.set_xlabel('Page')\n",
        "ax.set_ylabel('Time (in seconds)')\n",
        "plt.suptitle('')\n",
        "plt.title('')\n",
        "\n",
        "plt.tight_layout()\n",
        "plt.show()"
      ],
      "metadata": {
        "colab": {
          "base_uri": "https://localhost:8080/",
          "height": 297
        },
        "id": "PGLfpXJUT8gJ",
        "outputId": "6d8167a6-48a3-46a6-c589-0ac542ead677"
      },
      "execution_count": 43,
      "outputs": [
        {
          "output_type": "display_data",
          "data": {
            "image/png": "[encoded data removed]",
            "text/plain": [
              "<Figure size 288x288 with 1 Axes>"
            ]
          },
          "metadata": {
            "needs_background": "light"
          }
        }
      ]
    },
    {
      "cell_type": "code",
      "source": [
        "print(pd.read_csv(FOUR_SESSIONS_CSV).head())"
      ],
      "metadata": {
        "colab": {
          "base_uri": "https://localhost:8080/"
        },
        "id": "ROzJ8w3qUbYa",
        "outputId": "f703f185-4afb-42c0-cce2-4ef315ab5db5"
      },
      "execution_count": 44,
      "outputs": [
        {
          "output_type": "stream",
          "name": "stdout",
          "text": [
            "     Page  Time\n",
            "0  Page 1   164\n",
            "1  Page 2   178\n",
            "2  Page 3   175\n",
            "3  Page 4   155\n",
            "4  Page 1   172\n"
          ]
        }
      ]
    },
    {
      "cell_type": "code",
      "source": [
        "observed_variance = four_sessions.groupby('Page').mean().var()[0]\n",
        "print('Observed Means: ', four_sessions.groupby('Page').mean().values.ravel())\n",
        "print('Variance: ', observed_variance)\n",
        "\n",
        "def perm_test(df):\n",
        "  df = df.copy()\n",
        "  df['Time'] = np.random.permutation(df['Time'].values)\n",
        "  return df.groupby('Page').mean().var()[0]\n",
        "\n",
        "print(perm_test(four_sessions))"
      ],
      "metadata": {
        "colab": {
          "base_uri": "https://localhost:8080/"
        },
        "id": "sx84-p_5Ugjo",
        "outputId": "77c022f4-ec34-43f3-8609-7c9a6e1e8cc2"
      },
      "execution_count": 45,
      "outputs": [
        {
          "output_type": "stream",
          "name": "stdout",
          "text": [
            "Observed Means:  [172.8 182.6 175.6 164.6]\n",
            "Variance:  55.426666666666655\n",
            "34.466666666666754\n"
          ]
        }
      ]
    },
    {
      "cell_type": "code",
      "source": [
        "random.seed(1)\n",
        "perm_variance = [perm_test(four_sessions) for _ in range (3000)]\n",
        "print('Pr(Prob)', np.mean([var > observed_variance for var in perm_variance]))\n",
        "\n",
        "fig, ax = plt.subplots(figsize = (5,5))\n",
        "ax.hist(perm_variance, bins = 11, rwidth = 0.9)\n",
        "ax.axvline(x = observed_variance, color = 'black', lw = 2)\n",
        "ax.text( 60, 200, 'Observed\\nvariance', bbox = {'facecolor': 'white'})\n",
        "\n",
        "ax.set_xlabel('variance')\n",
        "ax.set_ylabel('Freuqency')\n",
        "\n",
        "plt.tight_layout()\n",
        "plt.show()"
      ],
      "metadata": {
        "colab": {
          "base_uri": "https://localhost:8080/",
          "height": 386
        },
        "id": "fZqu-tZAVCy1",
        "outputId": "708cd86b-ffea-470e-991b-bbeccac437ec"
      },
      "execution_count": 46,
      "outputs": [
        {
          "output_type": "stream",
          "name": "stdout",
          "text": [
            "Pr(Prob) 0.08666666666666667\n"
          ]
        },
        {
          "output_type": "display_data",
          "data": {
            "image/png": "[encoded data removed]",
            "text/plain": [
              "<Figure size 360x360 with 1 Axes>"
            ]
          },
          "metadata": {
            "needs_background": "light"
          }
        }
      ]
    },
    {
      "cell_type": "code",
      "source": [
        "model = smf.ols('Time ~ Page', data=four_sessions).fit()\n",
        "                \n",
        "aov_table = sm.stats.anova_lm(model)\n",
        "print(aov_table)"
      ],
      "metadata": {
        "colab": {
          "base_uri": "https://localhost:8080/"
        },
        "id": "0a9FBHgRVvRV",
        "outputId": "160b6128-895a-43d3-c16d-2106ef9332e9"
      },
      "execution_count": 49,
      "outputs": [
        {
          "output_type": "stream",
          "name": "stdout",
          "text": [
            "            df  sum_sq     mean_sq         F    PR(>F)\n",
            "Page       3.0   831.4  277.133333  2.739825  0.077586\n",
            "Residual  16.0  1618.4  101.150000       NaN       NaN\n"
          ]
        }
      ]
    },
    {
      "cell_type": "code",
      "source": [
        "res = stats.f_oneway(four_sessions[four_sessions.Page == 'Page 1'].Time,\n",
        "                     four_sessions[four_sessions.Page == 'Page 2'].Time,\n",
        "                     four_sessions[four_sessions.Page == 'Page 3'].Time,\n",
        "                     four_sessions[four_sessions.Page == 'Page 4'].Time,)\n",
        "\n",
        "print(f'F-Statistic: {res.statistic / 2:.4f}')\n",
        "print(f'p-value: {res.pvalue / 2:.4f}')"
      ],
      "metadata": {
        "colab": {
          "base_uri": "https://localhost:8080/"
        },
        "id": "Z7VPLh3JWA3E",
        "outputId": "13e7ee06-5706-4a54-c9aa-ba2cfd6d4d65"
      },
      "execution_count": 51,
      "outputs": [
        {
          "output_type": "stream",
          "name": "stdout",
          "text": [
            "F-Statistic: 1.3699\n",
            "p-value: 0.0388\n"
          ]
        }
      ]
    },
    {
      "cell_type": "code",
      "source": [
        "click_rate = pd.read_csv(CLICK_RATE_CSV)\n",
        "clicks = click_rate.pivot(index='Click', columns='Headline', values='Rate')\n",
        "print(clicks)"
      ],
      "metadata": {
        "colab": {
          "base_uri": "https://localhost:8080/"
        },
        "id": "Pe4dQoNLWa2T",
        "outputId": "6be4e539-1cce-4188-ff3c-4f3c32d189ff"
      },
      "execution_count": 53,
      "outputs": [
        {
          "output_type": "stream",
          "name": "stdout",
          "text": [
            "Headline  Headline A  Headline B  Headline C\n",
            "Click                                       \n",
            "Click             14           8          12\n",
            "No-click         986         992         988\n"
          ]
        }
      ]
    },
    {
      "cell_type": "code",
      "source": [
        "row_average = clicks.mean(axis = 1)\n",
        "pd.DataFrame({\n",
        "    'Headline A' : row_average,\n",
        "    'Headline B' : row_average,\n",
        "    'Headline C' : row_average,\n",
        "})"
      ],
      "metadata": {
        "colab": {
          "base_uri": "https://localhost:8080/",
          "height": 142
        },
        "id": "Ob7ne96eWpJZ",
        "outputId": "c0dc8421-803b-47bb-e132-92fbc7c7d540"
      },
      "execution_count": 54,
      "outputs": [
        {
          "output_type": "execute_result",
          "data": {
            "text/html": [
              "\n",
              "  <div id=\"df-b64fdae9-2065-4587-b4c2-bf1aab23aea6\">\n",
              "    <div class=\"colab-df-container\">\n",
              "      <div>\n",
              "<style scoped>\n",
              "    .dataframe tbody tr th:only-of-type {\n",
              "        vertical-align: middle;\n",
              "    }\n",
              "\n",
              "    .dataframe tbody tr th {\n",
              "        vertical-align: top;\n",
              "    }\n",
              "\n",
              "    .dataframe thead th {\n",
              "        text-align: right;\n",
              "    }\n",
              "</style>\n",
              "<table border=\"1\" class=\"dataframe\">\n",
              "  <thead>\n",
              "    <tr style=\"text-align: right;\">\n",
              "      <th></th>\n",
              "      <th>Headline A</th>\n",
              "      <th>Headline B</th>\n",
              "      <th>Headline C</th>\n",
              "    </tr>\n",
              "    <tr>\n",
              "      <th>Click</th>\n",
              "      <th></th>\n",
              "      <th></th>\n",
              "      <th></th>\n",
              "    </tr>\n",
              "  </thead>\n",
              "  <tbody>\n",
              "    <tr>\n",
              "      <th>Click</th>\n",
              "      <td>11.333333</td>\n",
              "      <td>11.333333</td>\n",
              "      <td>11.333333</td>\n",
              "    </tr>\n",
              "    <tr>\n",
              "      <th>No-click</th>\n",
              "      <td>988.666667</td>\n",
              "      <td>988.666667</td>\n",
              "      <td>988.666667</td>\n",
              "    </tr>\n",
              "  </tbody>\n",
              "</table>\n",
              "</div>\n",
              "      <button class=\"colab-df-convert\" onclick=\"convertToInteractive('df-b64fdae9-2065-4587-b4c2-bf1aab23aea6')\"\n",
              "              title=\"Convert this dataframe to an interactive table.\"\n",
              "              style=\"display:none;\">\n",
              "        \n",
              "  <svg xmlns=\"http://www.w3.org/2000/svg\" height=\"24px\"viewBox=\"0 0 24 24\"\n",
              "       width=\"24px\">\n",
              "    <path d=\"M0 0h24v24H0V0z\" fill=\"none\"/>\n",
              "    <path d=\"M18.56 5.44l.94 2.06.94-2.06 2.06-.94-2.06-.94-.94-2.06-.94 2.06-2.06.94zm-11 1L8.5 8.5l.94-2.06 2.06-.94-2.06-.94L8.5 2.5l-.94 2.06-2.06.94zm10 10l.94 2.06.94-2.06 2.06-.94-2.06-.94-.94-2.06-.94 2.06-2.06.94z\"/><path d=\"M17.41 7.96l-1.37-1.37c-.4-.4-.92-.59-1.43-.59-.52 0-1.04.2-1.43.59L10.3 9.45l-7.72 7.72c-.78.78-.78 2.05 0 2.83L4 21.41c.39.39.9.59 1.41.59.51 0 1.02-.2 1.41-.59l7.78-7.78 2.81-2.81c.8-.78.8-2.07 0-2.86zM5.41 20L4 18.59l7.72-7.72 1.47 1.35L5.41 20z\"/>\n",
              "  </svg>\n",
              "      </button>\n",
              "      \n",
              "  <style>\n",
              "    .colab-df-container {\n",
              "      display:flex;\n",
              "      flex-wrap:wrap;\n",
              "      gap: 12px;\n",
              "    }\n",
              "\n",
              "    .colab-df-convert {\n",
              "      background-color: #E8F0FE;\n",
              "      border: none;\n",
              "      border-radius: 50%;\n",
              "      cursor: pointer;\n",
              "      display: none;\n",
              "      fill: #1967D2;\n",
              "      height: 32px;\n",
              "      padding: 0 0 0 0;\n",
              "      width: 32px;\n",
              "    }\n",
              "\n",
              "    .colab-df-convert:hover {\n",
              "      background-color: #E2EBFA;\n",
              "      box-shadow: 0px 1px 2px rgba(60, 64, 67, 0.3), 0px 1px 3px 1px rgba(60, 64, 67, 0.15);\n",
              "      fill: #174EA6;\n",
              "    }\n",
              "\n",
              "    [theme=dark] .colab-df-convert {\n",
              "      background-color: #3B4455;\n",
              "      fill: #D2E3FC;\n",
              "    }\n",
              "\n",
              "    [theme=dark] .colab-df-convert:hover {\n",
              "      background-color: #434B5C;\n",
              "      box-shadow: 0px 1px 3px 1px rgba(0, 0, 0, 0.15);\n",
              "      filter: drop-shadow(0px 1px 2px rgba(0, 0, 0, 0.3));\n",
              "      fill: #FFFFFF;\n",
              "    }\n",
              "  </style>\n",
              "\n",
              "      <script>\n",
              "        const buttonEl =\n",
              "          document.querySelector('#df-b64fdae9-2065-4587-b4c2-bf1aab23aea6 button.colab-df-convert');\n",
              "        buttonEl.style.display =\n",
              "          google.colab.kernel.accessAllowed ? 'block' : 'none';\n",
              "\n",
              "        async function convertToInteractive(key) {\n",
              "          const element = document.querySelector('#df-b64fdae9-2065-4587-b4c2-bf1aab23aea6');\n",
              "          const dataTable =\n",
              "            await google.colab.kernel.invokeFunction('convertToInteractive',\n",
              "                                                     [key], {});\n",
              "          if (!dataTable) return;\n",
              "\n",
              "          const docLinkHtml = 'Like what you see? Visit the ' +\n",
              "            '<a target=\"_blank\" href=https://colab.research.google.com/notebooks/data_table.ipynb>data table notebook</a>'\n",
              "            + ' to learn more about interactive tables.';\n",
              "          element.innerHTML = '';\n",
              "          dataTable['output_type'] = 'display_data';\n",
              "          await google.colab.output.renderOutput(dataTable, element);\n",
              "          const docLink = document.createElement('div');\n",
              "          docLink.innerHTML = docLinkHtml;\n",
              "          element.appendChild(docLink);\n",
              "        }\n",
              "      </script>\n",
              "    </div>\n",
              "  </div>\n",
              "  "
            ],
            "text/plain": [
              "          Headline A  Headline B  Headline C\n",
              "Click                                       \n",
              "Click      11.333333   11.333333   11.333333\n",
              "No-click  988.666667  988.666667  988.666667"
            ]
          },
          "metadata": {},
          "execution_count": 54
        }
      ]
    },
    {
      "cell_type": "code",
      "source": [
        "# Resampling approach\n",
        "box = [1] * 34\n",
        "box.extend([0] * 2966)\n",
        "random.shuffle(box)\n",
        "\n",
        "def chi2(observed, expected):\n",
        "    pearson_residuals = []\n",
        "    for row, expect in zip(observed, expected):\n",
        "        pearson_residuals.append([(observe - expect) ** 2 / expect\n",
        "                                  for observe in row])\n",
        "    # return sum of squares\n",
        "    return np.sum(pearson_residuals)\n",
        "\n",
        "expected_clicks = 34 / 3\n",
        "expected_noclicks = 1000 - expected_clicks\n",
        "expected = [34 / 3, 1000 - 34 / 3]\n",
        "chi2observed = chi2(clicks.values, expected)\n",
        "\n",
        "def perm_fun(box):\n",
        "    sample_clicks = [sum(random.sample(box, 1000)),\n",
        "                     sum(random.sample(box, 1000)),\n",
        "                     sum(random.sample(box, 1000))]\n",
        "    sample_noclicks = [1000 - n for n in sample_clicks]\n",
        "    return chi2([sample_clicks, sample_noclicks], expected)\n",
        "\n",
        "perm_chi2 = [perm_fun(box) for _ in range(2000)]\n",
        "\n",
        "resampled_p_value = sum(perm_chi2 > chi2observed) / len(perm_chi2)\n",
        "print(f'Observed chi2: {chi2observed:.4f}')\n",
        "print(f'Resampled p-value: {resampled_p_value:.4f}')"
      ],
      "metadata": {
        "colab": {
          "base_uri": "https://localhost:8080/"
        },
        "id": "Jj9mNNlfW4N5",
        "outputId": "710b6c07-e033-4492-b736-4b84ec2f557f"
      },
      "execution_count": 55,
      "outputs": [
        {
          "output_type": "stream",
          "name": "stdout",
          "text": [
            "Observed chi2: 1.6659\n",
            "Resampled p-value: 0.4820\n"
          ]
        }
      ]
    },
    {
      "cell_type": "code",
      "source": [
        "chisq, pvalue, df, expected = stats.chi2_contingency(clicks)\n",
        "print(f'Observed chi2: {chisq:.4f}')\n",
        "print(f'p-value: {pvalue:.4f}')"
      ],
      "metadata": {
        "colab": {
          "base_uri": "https://localhost:8080/"
        },
        "id": "393rEPV_W79_",
        "outputId": "d7a277f2-23db-4263-8e23-9be2565da74c"
      },
      "execution_count": 56,
      "outputs": [
        {
          "output_type": "stream",
          "name": "stdout",
          "text": [
            "Observed chi2: 1.6659\n",
            "p-value: 0.4348\n"
          ]
        }
      ]
    },
    {
      "cell_type": "code",
      "source": [
        "x = [1 + i * (30 - 1) / 99 for i in range(100)]\n",
        "\n",
        "chi = pd.DataFrame({\n",
        "    'x': x,\n",
        "    'chi_1': stats.chi2.pdf(x, df=1),\n",
        "    'chi_2': stats.chi2.pdf(x, df=2),\n",
        "    'chi_5': stats.chi2.pdf(x, df=5),\n",
        "    'chi_10': stats.chi2.pdf(x, df=10),\n",
        "    'chi_20': stats.chi2.pdf(x, df=20),\n",
        "})\n",
        "fig, ax = plt.subplots(figsize=(4, 2.5))\n",
        "ax.plot(chi.x, chi.chi_1, color='black', linestyle='-', label='1')\n",
        "ax.plot(chi.x, chi.chi_2, color='black', linestyle=(0, (1, 1)), label='2')\n",
        "ax.plot(chi.x, chi.chi_5, color='black', linestyle=(0, (2, 1)), label='5')\n",
        "ax.plot(chi.x, chi.chi_10, color='black', linestyle=(0, (3, 1)), label='10')\n",
        "ax.plot(chi.x, chi.chi_20, color='black', linestyle=(0, (4, 1)), label='20')\n",
        "ax.legend(title='df')\n",
        "\n",
        "plt.tight_layout()\n",
        "plt.show()"
      ],
      "metadata": {
        "colab": {
          "base_uri": "https://localhost:8080/",
          "height": 189
        },
        "id": "KgxkRdlBXI_7",
        "outputId": "82ffc3af-a29d-41c1-8dae-cc441a139f85"
      },
      "execution_count": 57,
      "outputs": [
        {
          "output_type": "display_data",
          "data": {
            "image/png": "[encoded data removed]",
            "text/plain": [
              "<Figure size 288x180 with 1 Axes>"
            ]
          },
          "metadata": {
            "needs_background": "light"
          }
        }
      ]
    }
  ]
}