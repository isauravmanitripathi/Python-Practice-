{
  "nbformat": 4,
  "nbformat_minor": 0,
  "metadata": {
    "colab": {
      "name": "Untitled0.ipynb",
      "provenance": [],
      "authorship_tag": "ABX9TyM1AifqMw8+CALOIEuj4Az5"
    },
    "kernelspec": {
      "name": "python3",
      "display_name": "Python 3"
    },
    "language_info": {
      "name": "python"
    }
  },
  "cells": [
    {
      "cell_type": "code",
      "execution_count": 1,
      "metadata": {
        "colab": {
          "base_uri": "https://localhost:8080/"
        },
        "id": "sBFhTV1gEnBQ",
        "outputId": "6f3c1b5c-ebe6-4e35-dad7-f5d2d6ececc4"
      },
      "outputs": [
        {
          "output_type": "stream",
          "name": "stdout",
          "text": [
            "Requirement already satisfied: matplotlib in /usr/local/lib/python3.7/dist-packages (3.2.2)\n",
            "Requirement already satisfied: kiwisolver>=1.0.1 in /usr/local/lib/python3.7/dist-packages (from matplotlib) (1.3.2)\n",
            "Requirement already satisfied: numpy>=1.11 in /usr/local/lib/python3.7/dist-packages (from matplotlib) (1.19.5)\n",
            "Requirement already satisfied: cycler>=0.10 in /usr/local/lib/python3.7/dist-packages (from matplotlib) (0.11.0)\n",
            "Requirement already satisfied: python-dateutil>=2.1 in /usr/local/lib/python3.7/dist-packages (from matplotlib) (2.8.2)\n",
            "Requirement already satisfied: pyparsing!=2.0.4,!=2.1.2,!=2.1.6,>=2.0.1 in /usr/local/lib/python3.7/dist-packages (from matplotlib) (3.0.7)\n",
            "Requirement already satisfied: six>=1.5 in /usr/local/lib/python3.7/dist-packages (from python-dateutil>=2.1->matplotlib) (1.15.0)\n",
            "Requirement already satisfied: pandas in /usr/local/lib/python3.7/dist-packages (1.1.5)\n",
            "Requirement already satisfied: numpy>=1.15.4 in /usr/local/lib/python3.7/dist-packages (from pandas) (1.19.5)\n",
            "Requirement already satisfied: python-dateutil>=2.7.3 in /usr/local/lib/python3.7/dist-packages (from pandas) (2.8.2)\n",
            "Requirement already satisfied: pytz>=2017.2 in /usr/local/lib/python3.7/dist-packages (from pandas) (2018.9)\n",
            "Requirement already satisfied: six>=1.5 in /usr/local/lib/python3.7/dist-packages (from python-dateutil>=2.7.3->pandas) (1.15.0)\n",
            "Requirement already satisfied: numpy in /usr/local/lib/python3.7/dist-packages (1.19.5)\n",
            "Requirement already satisfied: sklearn in /usr/local/lib/python3.7/dist-packages (0.0)\n",
            "Requirement already satisfied: scikit-learn in /usr/local/lib/python3.7/dist-packages (from sklearn) (1.0.2)\n",
            "Requirement already satisfied: scipy>=1.1.0 in /usr/local/lib/python3.7/dist-packages (from scikit-learn->sklearn) (1.4.1)\n",
            "Requirement already satisfied: numpy>=1.14.6 in /usr/local/lib/python3.7/dist-packages (from scikit-learn->sklearn) (1.19.5)\n",
            "Requirement already satisfied: threadpoolctl>=2.0.0 in /usr/local/lib/python3.7/dist-packages (from scikit-learn->sklearn) (3.0.0)\n",
            "Requirement already satisfied: joblib>=0.11 in /usr/local/lib/python3.7/dist-packages (from scikit-learn->sklearn) (1.1.0)\n",
            "Requirement already satisfied: scipy in /usr/local/lib/python3.7/dist-packages (1.4.1)\n",
            "Requirement already satisfied: numpy>=1.13.3 in /usr/local/lib/python3.7/dist-packages (from scipy) (1.19.5)\n",
            "Requirement already satisfied: seaborn in /usr/local/lib/python3.7/dist-packages (0.11.2)\n",
            "Requirement already satisfied: matplotlib>=2.2 in /usr/local/lib/python3.7/dist-packages (from seaborn) (3.2.2)\n",
            "Requirement already satisfied: numpy>=1.15 in /usr/local/lib/python3.7/dist-packages (from seaborn) (1.19.5)\n",
            "Requirement already satisfied: scipy>=1.0 in /usr/local/lib/python3.7/dist-packages (from seaborn) (1.4.1)\n",
            "Requirement already satisfied: pandas>=0.23 in /usr/local/lib/python3.7/dist-packages (from seaborn) (1.1.5)\n",
            "Requirement already satisfied: python-dateutil>=2.1 in /usr/local/lib/python3.7/dist-packages (from matplotlib>=2.2->seaborn) (2.8.2)\n",
            "Requirement already satisfied: pyparsing!=2.0.4,!=2.1.2,!=2.1.6,>=2.0.1 in /usr/local/lib/python3.7/dist-packages (from matplotlib>=2.2->seaborn) (3.0.7)\n",
            "Requirement already satisfied: cycler>=0.10 in /usr/local/lib/python3.7/dist-packages (from matplotlib>=2.2->seaborn) (0.11.0)\n",
            "Requirement already satisfied: kiwisolver>=1.0.1 in /usr/local/lib/python3.7/dist-packages (from matplotlib>=2.2->seaborn) (1.3.2)\n",
            "Requirement already satisfied: pytz>=2017.2 in /usr/local/lib/python3.7/dist-packages (from pandas>=0.23->seaborn) (2018.9)\n",
            "Requirement already satisfied: six>=1.5 in /usr/local/lib/python3.7/dist-packages (from python-dateutil>=2.1->matplotlib>=2.2->seaborn) (1.15.0)\n",
            "Requirement already satisfied: pathlib in /usr/local/lib/python3.7/dist-packages (1.0.1)\n"
          ]
        }
      ],
      "source": [
        "!pip install matplotlib\n",
        "!pip install pandas\n",
        "!pip install numpy \n",
        "!pip install sklearn\n",
        "!pip install scipy \n",
        "!pip install seaborn\n",
        "!pip install pathlib"
      ]
    },
    {
      "cell_type": "code",
      "source": [
        "%matplotlib inline \n",
        "from pathlib import Path \n",
        "import pandas as pd \n",
        "import numpy as np \n",
        "from scipy import stats\n",
        "from sklearn.utils import resample \n",
        "\n",
        "import seaborn as sns \n",
        "import matplotlib.pyplot as plt "
      ],
      "metadata": {
        "id": "RZXlFXgFF9bT"
      },
      "execution_count": 2,
      "outputs": []
    },
    {
      "cell_type": "code",
      "source": [
        "try: \n",
        "  import common \n",
        "  DATA = common.dataDirectory()\n",
        "except ImportError: \n",
        "  DATA = Path().resolve() / 'data'"
      ],
      "metadata": {
        "id": "7ptkjlNDGM9r"
      },
      "execution_count": 3,
      "outputs": []
    },
    {
      "cell_type": "code",
      "source": [
        "LOANS_INCOME_CSV = './Data/loans_income.csv'\n",
        "SP500_DATA_CSV = './Data/sp500_data.csv.gz'"
      ],
      "metadata": {
        "id": "s0gseF8nGXZM"
      },
      "execution_count": 4,
      "outputs": []
    },
    {
      "cell_type": "code",
      "source": [
        "np.random.seed(seed = 1)\n",
        "x = np.linspace(-3,3,300)\n",
        "xsample = stats.norm.rvs(size = 1000)\n",
        "\n",
        "fig, axes = plt.subplots(ncols = 2, figsize = (5,1.5))\n",
        "ax = axes[0]\n",
        "ax.fill(x, stats.norm.pdf(x))\n",
        "ax.set_axis_off()\n",
        "ax.set_xlim(-3,3)\n",
        "\n",
        "ax = axes[1]\n",
        "ax.hist(xsample, bins = 30)\n",
        "ax.set_axis_off()\n",
        "ax.set_xlim(-3,3)\n",
        "ax.set_position\n",
        "\n",
        "plt.show()"
      ],
      "metadata": {
        "colab": {
          "base_uri": "https://localhost:8080/",
          "height": 112
        },
        "id": "OEw6aN6UGhTo",
        "outputId": "be8d6be0-a02a-4fec-cf05-4ba5eff396a5"
      },
      "execution_count": 6,
      "outputs": [
        {
          "output_type": "display_data",
          "data": {
            "image/png": "[encoded data removed]",
            "text/plain": [
              "<Figure size 360x108 with 2 Axes>"
            ]
          },
          "metadata": {
            "needs_background": "light"
          }
        }
      ]
    },
    {
      "cell_type": "code",
      "source": [
        "loans_income = pd.read_csv(LOANS_INCOME_CSV, squeeze=True)\n",
        "\n",
        "sample_data = pd.DataFrame({\n",
        "    'income': loans_income.sample(1000),\n",
        "    'type': 'Data',\n",
        "})\n",
        "\n",
        "sample_mean_05 = pd.DataFrame({\n",
        "    'income': [loans_income.sample(5).mean() for _ in range(1000)],\n",
        "    'type': 'Mean of 5',\n",
        "})\n",
        "\n",
        "sample_mean_20 = pd.DataFrame({\n",
        "    'income': [loans_income.sample(20).mean() for _ in range(1000)],\n",
        "    'type': 'Mean of 20',\n",
        "})\n",
        "\n",
        "results = pd.concat([sample_data, sample_mean_05, sample_mean_20])\n",
        "print(results.head())\n"
      ],
      "metadata": {
        "colab": {
          "base_uri": "https://localhost:8080/"
        },
        "id": "kzBxViDpHGmt",
        "outputId": "a3e60b53-ef20-4113-c6ea-afbf55e537b5"
      },
      "execution_count": 8,
      "outputs": [
        {
          "output_type": "stream",
          "name": "stdout",
          "text": [
            "         income  type\n",
            "19670   84000.0  Data\n",
            "47158   49000.0  Data\n",
            "38921  125000.0  Data\n",
            "44354  100000.0  Data\n",
            "28613  106000.0  Data\n"
          ]
        }
      ]
    },
    {
      "cell_type": "code",
      "source": [
        "g = sns.FacetGrid(results, col = 'type', col_wrap = 1, height = 2, aspect = 2)\n",
        "\n",
        "g.map(plt.hist, 'income', range = [0,200000], bins = 40)\n",
        "g.set_axis_labels('Income', 'Count')\n",
        "g.set_titles('{col_name}')\n",
        "\n",
        "plt.tight_layout()\n",
        "plt.show()"
      ],
      "metadata": {
        "colab": {
          "base_uri": "https://localhost:8080/",
          "height": 441
        },
        "id": "KTY2GdgGH6HY",
        "outputId": "c500f362-b92d-45ea-bec4-ab64740daa9d"
      },
      "execution_count": 10,
      "outputs": [
        {
          "output_type": "display_data",
          "data": {
            "image/png": "[encoded data removed]",
            "text/plain": [
              "<Figure size 288x432 with 3 Axes>"
            ]
          },
          "metadata": {
            "needs_background": "light"
          }
        }
      ]
    },
    {
      "cell_type": "markdown",
      "source": [
        "The Bootstrap"
      ],
      "metadata": {
        "id": "AINznoN9IWJb"
      }
    },
    {
      "cell_type": "code",
      "source": [
        "results = []\n",
        "for nrepeat in range(1000):\n",
        "    sample = resample(loans_income)\n",
        "    results.append(sample.median())\n",
        "results = pd.Series(results)\n",
        "print('Bootstrap Statistics:')\n",
        "print(f'original: {loans_income.median()}')\n",
        "print(f'bias: {results.mean() - loans_income.median()}')\n",
        "print(f'std. error: {results.std()}')"
      ],
      "metadata": {
        "colab": {
          "base_uri": "https://localhost:8080/"
        },
        "id": "v7Hxv9k5IXu9",
        "outputId": "1403d9d0-36c0-490b-8747-12cdd62ad96e"
      },
      "execution_count": 12,
      "outputs": [
        {
          "output_type": "stream",
          "name": "stdout",
          "text": [
            "Bootstrap Statistics:\n",
            "original: 62000.0\n",
            "bias: -70.56199999999808\n",
            "std. error: 205.12865577832127\n"
          ]
        }
      ]
    },
    {
      "cell_type": "code",
      "source": [
        "print(loans_income.mean())\n",
        "np.random.seed(seed=3)  \n",
        "# create a sample of 20 loan income data\n",
        "sample20 = resample(loans_income, n_samples=20, replace=False)\n",
        "print(sample20.mean())\n",
        "results = []\n",
        "for nrepeat in range(500):\n",
        "    sample = resample(sample20)\n",
        "    results.append(sample.mean())\n",
        "results = pd.Series(results)\n",
        "\n",
        "confidence_interval = list(results.quantile([0.05, 0.95]))\n",
        "ax = results.plot.hist(bins=30, figsize=(4, 3))\n",
        "ax.plot(confidence_interval, [55, 55], color='black')\n",
        "for x in confidence_interval:\n",
        "    ax.plot([x, x], [0, 65], color='black')\n",
        "    ax.text(x, 70, f'{x:.0f}', \n",
        "            horizontalalignment='center', verticalalignment='center')\n",
        "ax.text(sum(confidence_interval) / 2, 60, '90% interval',\n",
        "        horizontalalignment='center', verticalalignment='center')\n",
        "\n",
        "meanIncome = results.mean()\n",
        "ax.plot([meanIncome, meanIncome], [0, 50], color='black', linestyle='--')\n",
        "ax.text(meanIncome, 10, f'Mean: {meanIncome:.0f}',\n",
        "        bbox=dict(facecolor='white', edgecolor='white', alpha=0.5),\n",
        "        horizontalalignment='center', verticalalignment='center')\n",
        "ax.set_ylim(0, 80)\n",
        "ax.set_ylabel('Counts')\n",
        "\n",
        "plt.tight_layout()\n",
        "plt.show()"
      ],
      "metadata": {
        "colab": {
          "base_uri": "https://localhost:8080/",
          "height": 259
        },
        "id": "4FY8cgT2I7nL",
        "outputId": "0da9f2c2-6611-4dcf-9abf-fc95355734f3"
      },
      "execution_count": 13,
      "outputs": [
        {
          "output_type": "stream",
          "name": "stdout",
          "text": [
            "68760.51844\n",
            "55734.1\n"
          ]
        },
        {
          "output_type": "display_data",
          "data": {
            "image/png": "[encoded data removed]",
            "text/plain": [
              "<Figure size 288x216 with 1 Axes>"
            ]
          },
          "metadata": {
            "needs_background": "light"
          }
        }
      ]
    },
    {
      "cell_type": "code",
      "source": [
        "np.random.seed(seed=3)\n",
        "# create a sample of 20 loan income data\n",
        "sample20 = resample(loans_income, n_samples=20, replace=False)\n",
        "\n",
        "results = []\n",
        "for nrepeat in range(500):\n",
        "    sample = resample(sample20)\n",
        "    results.append(sample.mean())\n",
        "results = pd.Series(results)\n",
        "\n",
        "confidence_interval = list(results.quantile([0.05, 0.95]))\n",
        "ax = results.plot.hist(bins=30, figsize=(4, 3), color='C1')\n",
        "ax.plot(confidence_interval, [55, 55], color='black', linestyle='--')\n",
        "for x in confidence_interval:\n",
        "    ax.plot([x, x], [0, 60], color='black')\n",
        "ax.text(82000, 50, \n",
        "        f'90% CI\\n[{confidence_interval[0]:.0f}, {confidence_interval[1]:.0f}]',\n",
        "       fontsize='small')\n",
        "\n",
        "confidence_interval = list(results.quantile([0.025, 0.975]))\n",
        "ax = results.plot.hist(bins=30, figsize=(4, 3))\n",
        "ax.plot(confidence_interval, [65, 65], color='black', linestyle='--')\n",
        "for x in confidence_interval:\n",
        "    ax.plot([x, x], [0, 70], color='black')\n",
        "ax.text(82000, 65, \n",
        "        f'95% CI\\n[{confidence_interval[0]:.0f}, {confidence_interval[1]:.0f}]',\n",
        "       fontsize='small')\n",
        "# ax.text(sum(confidence_interval) / 2, 264, '95 % interval',\n",
        "#         horizontalalignment='center', verticalalignment='center')\n",
        "\n",
        "meanIncome = results.mean()\n",
        "ax.plot([meanIncome, meanIncome], [0, 50], color='black', linestyle='--')\n",
        "ax.text(meanIncome, 5, f'Mean: {meanIncome:.0f}',\n",
        "        bbox=dict(facecolor='white', edgecolor='white', alpha=0.5),\n",
        "        horizontalalignment='center', verticalalignment='center')\n",
        "ax.set_ylim(0, 80)\n",
        "ax.set_xlim(37000, 102000)\n",
        "ax.set_xticks([40000, 50000, 60000, 70000, 80000])\n",
        "ax.set_ylabel('Counts')\n",
        "\n",
        "# plt.tight_layout()\n",
        "# plt.show()"
      ],
      "metadata": {
        "colab": {
          "base_uri": "https://localhost:8080/",
          "height": 232
        },
        "id": "yEgs5Rd9I_R6",
        "outputId": "485097c0-5fab-443d-ea1d-89fd2abe9be8"
      },
      "execution_count": 14,
      "outputs": [
        {
          "output_type": "execute_result",
          "data": {
            "text/plain": [
              "Text(0, 0.5, 'Counts')"
            ]
          },
          "metadata": {},
          "execution_count": 14
        },
        {
          "output_type": "display_data",
          "data": {
            "image/png": "[encoded data removed]",
            "text/plain": [
              "<Figure size 288x216 with 1 Axes>"
            ]
          },
          "metadata": {
            "needs_background": "light"
          }
        }
      ]
    },
    {
      "cell_type": "code",
      "source": [
        "fig, ax = plt.subplots(figsize = (4,4))\n",
        "\n",
        "norm_sample = stats.norm.rvs(size = 100)\n",
        "stats.probplot(norm_sample, plot = ax)\n",
        "\n",
        "plt.tight_layout()\n",
        "plt.show()"
      ],
      "metadata": {
        "colab": {
          "base_uri": "https://localhost:8080/",
          "height": 297
        },
        "id": "NkRxSWLJJEuP",
        "outputId": "f7e28ea5-5813-4c7f-95df-84226dd4f79b"
      },
      "execution_count": 16,
      "outputs": [
        {
          "output_type": "display_data",
          "data": {
            "image/png": "[encoded data removed]",
            "text/plain": [
              "<Figure size 288x288 with 1 Axes>"
            ]
          },
          "metadata": {
            "needs_background": "light"
          }
        }
      ]
    },
    {
      "cell_type": "code",
      "source": [
        "sp500_px = pd.read_csv(SP500_DATA_CSV)\n",
        "\n",
        "nflx = sp500_px.NFLX\n",
        "nflx = np.diff(np.log(nflx[nflx>0]))\n",
        "\n",
        "fig, ax = plt.subplots(figsize = (4,4))\n",
        "stats.probplot(nflx, plot = ax)\n",
        "plt.tight_layout()\n",
        "plt.show()"
      ],
      "metadata": {
        "colab": {
          "base_uri": "https://localhost:8080/",
          "height": 297
        },
        "id": "z_PxDzZ-JaG3",
        "outputId": "224ae258-6eed-4e78-ee4e-093c34797c0f"
      },
      "execution_count": 17,
      "outputs": [
        {
          "output_type": "display_data",
          "data": {
            "image/png": "[encoded data removed]",
            "text/plain": [
              "<Figure size 288x288 with 1 Axes>"
            ]
          },
          "metadata": {
            "needs_background": "light"
          }
        }
      ]
    }
  ]
}